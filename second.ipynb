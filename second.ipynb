{
 "cells": [
  {
   "cell_type": "code",
   "execution_count": null,
   "id": "877e47ff-b9ee-47ad-8bba-8228085cf36c",
   "metadata": {},
   "outputs": [],
   "source": [
    "import warnings\n",
    "warnings.filterwarnings(\"ignore\")"
   ]
  },
  {
   "cell_type": "code",
   "execution_count": 273,
   "id": "d906bfac-eb34-4518-ba23-4a22c1dd0c75",
   "metadata": {},
   "outputs": [],
   "source": [
    "from ucimlrepo import fetch_ucirepo \n",
    "  \n",
    "# fetch dataset \n",
    "yeast = fetch_ucirepo(id=110) \n",
    "  \n",
    "# data (as pandas dataframes) \n",
    "X = yeast.data.features \n",
    "y = yeast.data.targets\n",
    "\n",
    "\n"
   ]
  },
  {
   "cell_type": "code",
   "execution_count": 274,
   "id": "e53ca521-5d4c-49ac-89e1-322999eb5596",
   "metadata": {},
   "outputs": [],
   "source": [
    "df = pd.concat([X,y], axis = 1)"
   ]
  },
  {
   "cell_type": "code",
   "execution_count": 46,
   "id": "632232fb-3df9-4b54-ad8b-1f2f792a7879",
   "metadata": {},
   "outputs": [],
   "source": [
    "from sklearn.preprocessing import LabelEncoder\n"
   ]
  },
  {
   "cell_type": "code",
   "execution_count": 275,
   "id": "7a837f5f-93c2-4c5f-83d5-bd00ae6ee4df",
   "metadata": {},
   "outputs": [
    {
     "name": "stderr",
     "output_type": "stream",
     "text": [
      "C:\\Users\\deshm\\AppData\\Local\\Programs\\Python\\Python311\\Lib\\site-packages\\sklearn\\preprocessing\\_label.py:114: DataConversionWarning: A column-vector y was passed when a 1d array was expected. Please change the shape of y to (n_samples, ), for example using ravel().\n",
      "  y = column_or_1d(y, warn=True)\n"
     ]
    }
   ],
   "source": [
    "label_encoder = LabelEncoder()\n",
    "y_encoded = label_encoder.fit_transform(y)\n",
    "\n",
    "# Split data into train and test sets\n",
    "X_train, X_test, y_train, y_test = train_test_split(X, y_encoded, test_size=0.2, random_state=42)"
   ]
  },
  {
   "cell_type": "code",
   "execution_count": 276,
   "id": "0d68b979-9ac3-41a6-b0b8-2b6e0e75233c",
   "metadata": {},
   "outputs": [],
   "source": [
    "from sklearn.model_selection import train_test_split\n",
    "from sklearn.metrics import mean_squared_error, accuracy_score\n",
    "\n",
    "# Split data into train and test sets\n",
    "# X_train, X_test, y_train, y_test = train_test_split(X, y, test_size=0.2, random_state=42)\n"
   ]
  },
  {
   "cell_type": "code",
   "execution_count": 298,
   "id": "a191684a-72f7-4ab0-833c-d3cd9f4c853e",
   "metadata": {},
   "outputs": [
    {
     "name": "stdout",
     "output_type": "stream",
     "text": [
      "Random Forest Accuracy: 0.6363636363636364\n"
     ]
    }
   ],
   "source": [
    "from sklearn.ensemble import RandomForestClassifier\n",
    "\n",
    "# Train the model\n",
    "rf_clf = RandomForestClassifier(random_state=93)\n",
    "rf_clf.fit(X_train, y_train)\n",
    "\n",
    "# Predict\n",
    "y_pred_rf = rf_clf.predict(X_test)\n",
    "\n"
   ]
  },
  {
   "cell_type": "code",
   "execution_count": 299,
   "id": "f2105dbf-524b-443b-950b-fc8a19c46503",
   "metadata": {},
   "outputs": [
    {
     "name": "stdout",
     "output_type": "stream",
     "text": [
      " MSE: 11.282828282828282,    Accuracy: 0.6363636363636364\n"
     ]
    }
   ],
   "source": [
    "# Evaluate the model\n",
    "mse_rf = mean_squared_error(y_test, y_pred_rf)\n",
    "accuracy_rf = accuracy_score(y_test, y_pred_rf)\n",
    "print(f' MSE: {mse_rf},    Accuracy: {accuracy_rf}')"
   ]
  },
  {
   "cell_type": "code",
   "execution_count": null,
   "id": "a00de45c-1239-488f-b9f1-a2cd4afc1278",
   "metadata": {},
   "outputs": [],
   "source": []
  },
  {
   "cell_type": "code",
   "execution_count": 247,
   "id": "73be2801-24f7-489c-8e4a-e32dc85c22c3",
   "metadata": {},
   "outputs": [],
   "source": [
    "N = df.shape[0]"
   ]
  },
  {
   "cell_type": "code",
   "execution_count": 248,
   "id": "46000710-fe90-4c82-8d61-a25514042d65",
   "metadata": {},
   "outputs": [],
   "source": [
    "import numpy as np\n",
    "df[\"random\"] = np.random.choice([1, 2, 3, 4, 5, 6, 7, 8, 9, 10], N, p=[1/10, 1/10, 1/10, 1/10, 1/10, 1/10, 1/10, 1/10, 1/10, 1/10])"
   ]
  },
  {
   "cell_type": "code",
   "execution_count": 305,
   "id": "0ed32250-9236-4e8c-ba68-8f9f1d5003c1",
   "metadata": {},
   "outputs": [],
   "source": [
    "import numpy as np\n",
    "df[\"random\"] = np.random.choice([1, 2, 3, 4, 5], N, p=[1/5, 1/5, 1/5, 1/5, 1/5])"
   ]
  },
  {
   "cell_type": "code",
   "execution_count": 306,
   "id": "38caaaa1-765b-4668-8ebf-4644c8cc8cae",
   "metadata": {},
   "outputs": [
    {
     "data": {
      "text/html": [
       "<div>\n",
       "<style scoped>\n",
       "    .dataframe tbody tr th:only-of-type {\n",
       "        vertical-align: middle;\n",
       "    }\n",
       "\n",
       "    .dataframe tbody tr th {\n",
       "        vertical-align: top;\n",
       "    }\n",
       "\n",
       "    .dataframe thead th {\n",
       "        text-align: right;\n",
       "    }\n",
       "</style>\n",
       "<table border=\"1\" class=\"dataframe\">\n",
       "  <thead>\n",
       "    <tr style=\"text-align: right;\">\n",
       "      <th></th>\n",
       "      <th>mcg</th>\n",
       "      <th>gvh</th>\n",
       "      <th>alm</th>\n",
       "      <th>mit</th>\n",
       "      <th>erl</th>\n",
       "      <th>pox</th>\n",
       "      <th>vac</th>\n",
       "      <th>nuc</th>\n",
       "      <th>localization_site</th>\n",
       "      <th>random</th>\n",
       "    </tr>\n",
       "  </thead>\n",
       "  <tbody>\n",
       "    <tr>\n",
       "      <th>0</th>\n",
       "      <td>0.58</td>\n",
       "      <td>0.61</td>\n",
       "      <td>0.47</td>\n",
       "      <td>0.13</td>\n",
       "      <td>0.5</td>\n",
       "      <td>0.0</td>\n",
       "      <td>0.48</td>\n",
       "      <td>0.22</td>\n",
       "      <td>MIT</td>\n",
       "      <td>1</td>\n",
       "    </tr>\n",
       "    <tr>\n",
       "      <th>1</th>\n",
       "      <td>0.43</td>\n",
       "      <td>0.67</td>\n",
       "      <td>0.48</td>\n",
       "      <td>0.27</td>\n",
       "      <td>0.5</td>\n",
       "      <td>0.0</td>\n",
       "      <td>0.53</td>\n",
       "      <td>0.22</td>\n",
       "      <td>MIT</td>\n",
       "      <td>2</td>\n",
       "    </tr>\n",
       "    <tr>\n",
       "      <th>2</th>\n",
       "      <td>0.64</td>\n",
       "      <td>0.62</td>\n",
       "      <td>0.49</td>\n",
       "      <td>0.15</td>\n",
       "      <td>0.5</td>\n",
       "      <td>0.0</td>\n",
       "      <td>0.53</td>\n",
       "      <td>0.22</td>\n",
       "      <td>MIT</td>\n",
       "      <td>4</td>\n",
       "    </tr>\n",
       "    <tr>\n",
       "      <th>3</th>\n",
       "      <td>0.58</td>\n",
       "      <td>0.44</td>\n",
       "      <td>0.57</td>\n",
       "      <td>0.13</td>\n",
       "      <td>0.5</td>\n",
       "      <td>0.0</td>\n",
       "      <td>0.54</td>\n",
       "      <td>0.22</td>\n",
       "      <td>NUC</td>\n",
       "      <td>5</td>\n",
       "    </tr>\n",
       "    <tr>\n",
       "      <th>4</th>\n",
       "      <td>0.42</td>\n",
       "      <td>0.44</td>\n",
       "      <td>0.48</td>\n",
       "      <td>0.54</td>\n",
       "      <td>0.5</td>\n",
       "      <td>0.0</td>\n",
       "      <td>0.48</td>\n",
       "      <td>0.22</td>\n",
       "      <td>MIT</td>\n",
       "      <td>2</td>\n",
       "    </tr>\n",
       "    <tr>\n",
       "      <th>...</th>\n",
       "      <td>...</td>\n",
       "      <td>...</td>\n",
       "      <td>...</td>\n",
       "      <td>...</td>\n",
       "      <td>...</td>\n",
       "      <td>...</td>\n",
       "      <td>...</td>\n",
       "      <td>...</td>\n",
       "      <td>...</td>\n",
       "      <td>...</td>\n",
       "    </tr>\n",
       "    <tr>\n",
       "      <th>1479</th>\n",
       "      <td>0.81</td>\n",
       "      <td>0.62</td>\n",
       "      <td>0.43</td>\n",
       "      <td>0.17</td>\n",
       "      <td>0.5</td>\n",
       "      <td>0.0</td>\n",
       "      <td>0.53</td>\n",
       "      <td>0.22</td>\n",
       "      <td>ME2</td>\n",
       "      <td>5</td>\n",
       "    </tr>\n",
       "    <tr>\n",
       "      <th>1480</th>\n",
       "      <td>0.47</td>\n",
       "      <td>0.43</td>\n",
       "      <td>0.61</td>\n",
       "      <td>0.40</td>\n",
       "      <td>0.5</td>\n",
       "      <td>0.0</td>\n",
       "      <td>0.48</td>\n",
       "      <td>0.47</td>\n",
       "      <td>NUC</td>\n",
       "      <td>3</td>\n",
       "    </tr>\n",
       "    <tr>\n",
       "      <th>1481</th>\n",
       "      <td>0.67</td>\n",
       "      <td>0.57</td>\n",
       "      <td>0.36</td>\n",
       "      <td>0.19</td>\n",
       "      <td>0.5</td>\n",
       "      <td>0.0</td>\n",
       "      <td>0.56</td>\n",
       "      <td>0.22</td>\n",
       "      <td>ME2</td>\n",
       "      <td>3</td>\n",
       "    </tr>\n",
       "    <tr>\n",
       "      <th>1482</th>\n",
       "      <td>0.43</td>\n",
       "      <td>0.40</td>\n",
       "      <td>0.60</td>\n",
       "      <td>0.16</td>\n",
       "      <td>0.5</td>\n",
       "      <td>0.0</td>\n",
       "      <td>0.53</td>\n",
       "      <td>0.39</td>\n",
       "      <td>NUC</td>\n",
       "      <td>5</td>\n",
       "    </tr>\n",
       "    <tr>\n",
       "      <th>1483</th>\n",
       "      <td>0.65</td>\n",
       "      <td>0.54</td>\n",
       "      <td>0.54</td>\n",
       "      <td>0.13</td>\n",
       "      <td>0.5</td>\n",
       "      <td>0.0</td>\n",
       "      <td>0.53</td>\n",
       "      <td>0.22</td>\n",
       "      <td>CYT</td>\n",
       "      <td>5</td>\n",
       "    </tr>\n",
       "  </tbody>\n",
       "</table>\n",
       "<p>1484 rows × 10 columns</p>\n",
       "</div>"
      ],
      "text/plain": [
       "       mcg   gvh   alm   mit  erl  pox   vac   nuc localization_site  random\n",
       "0     0.58  0.61  0.47  0.13  0.5  0.0  0.48  0.22               MIT       1\n",
       "1     0.43  0.67  0.48  0.27  0.5  0.0  0.53  0.22               MIT       2\n",
       "2     0.64  0.62  0.49  0.15  0.5  0.0  0.53  0.22               MIT       4\n",
       "3     0.58  0.44  0.57  0.13  0.5  0.0  0.54  0.22               NUC       5\n",
       "4     0.42  0.44  0.48  0.54  0.5  0.0  0.48  0.22               MIT       2\n",
       "...    ...   ...   ...   ...  ...  ...   ...   ...               ...     ...\n",
       "1479  0.81  0.62  0.43  0.17  0.5  0.0  0.53  0.22               ME2       5\n",
       "1480  0.47  0.43  0.61  0.40  0.5  0.0  0.48  0.47               NUC       3\n",
       "1481  0.67  0.57  0.36  0.19  0.5  0.0  0.56  0.22               ME2       3\n",
       "1482  0.43  0.40  0.60  0.16  0.5  0.0  0.53  0.39               NUC       5\n",
       "1483  0.65  0.54  0.54  0.13  0.5  0.0  0.53  0.22               CYT       5\n",
       "\n",
       "[1484 rows x 10 columns]"
      ]
     },
     "execution_count": 306,
     "metadata": {},
     "output_type": "execute_result"
    }
   ],
   "source": [
    "df"
   ]
  },
  {
   "cell_type": "code",
   "execution_count": 119,
   "id": "496e653e-0ec4-4fb9-ac1d-8f8c68d509be",
   "metadata": {},
   "outputs": [],
   "source": [
    "# for yeast"
   ]
  },
  {
   "cell_type": "code",
   "execution_count": 307,
   "id": "2b939eeb-dceb-46e0-a198-57a3ea1e0d4a",
   "metadata": {},
   "outputs": [],
   "source": [
    "df[\"random\"] = np.random.choice([1, 2, 3, 4, 5], N, p=[1/5, 1/5, 1/5, 1/5, 1/5])\n",
    "index = df[df[\"random\"]==5].index\n",
    "# Replace with NaN\n",
    "df.loc[index,\"mcg\"] = np.nan"
   ]
  },
  {
   "cell_type": "code",
   "execution_count": 308,
   "id": "7ded5a4b-c946-4ebc-b3fa-07daaff98abc",
   "metadata": {},
   "outputs": [],
   "source": [
    "df[\"random\"] = np.random.choice([1, 2, 3, 4, 5], N, p=[1/5, 1/5, 1/5, 1/5, 1/5])\n",
    "index = df[df[\"random\"]==5].index\n",
    "# Replace with NaN\n",
    "df.loc[index,\"gvh\"] = np.nan"
   ]
  },
  {
   "cell_type": "code",
   "execution_count": 309,
   "id": "9efe3784-6885-44d5-9c6d-8060661f50a0",
   "metadata": {},
   "outputs": [],
   "source": [
    "df[\"random\"] = np.random.choice([1, 2, 3, 4, 5], N, p=[1/5, 1/5, 1/5, 1/5, 1/5])\n",
    "index = df[df[\"random\"]==5].index\n",
    "# Replace with NaN\n",
    "df.loc[index,\"alm\"] = np.nan"
   ]
  },
  {
   "cell_type": "code",
   "execution_count": 310,
   "id": "e5b36909-1357-4d93-a4fa-f583b4eb340c",
   "metadata": {},
   "outputs": [],
   "source": [
    "df[\"random\"] = np.random.choice([1, 2, 3, 4, 5], N, p=[1/5, 1/5, 1/5, 1/5, 1/5])\n",
    "index = df[df[\"random\"]==5].index\n",
    "# Replace with NaN\n",
    "df.loc[index,\"mit\"] = np.nan"
   ]
  },
  {
   "cell_type": "code",
   "execution_count": 311,
   "id": "fb3df606-f45c-46d3-97d1-eeebac7587cc",
   "metadata": {},
   "outputs": [],
   "source": [
    "df[\"random\"] = np.random.choice([1, 2, 3, 4, 5], N, p=[1/5, 1/5, 1/5, 1/5, 1/5])\n",
    "index = df[df[\"random\"]==5].index\n",
    "# Replace with NaN\n",
    "df.loc[index,\"erl\"] = np.nan"
   ]
  },
  {
   "cell_type": "code",
   "execution_count": 312,
   "id": "4dcfab19-4bb8-4b5b-95b4-ae9e7b450dda",
   "metadata": {},
   "outputs": [],
   "source": [
    "df[\"random\"] = np.random.choice([1, 2, 3, 4, 5], N, p=[1/5, 1/5, 1/5, 1/5, 1/5])\n",
    "index = df[df[\"random\"]==5].index\n",
    "# Replace with NaN\n",
    "df.loc[index,\"vac\"] = np.nan"
   ]
  },
  {
   "cell_type": "code",
   "execution_count": 313,
   "id": "e6bf7609-9c02-4864-9fba-d8af02ab1d27",
   "metadata": {},
   "outputs": [],
   "source": [
    "df[\"random\"] = np.random.choice([1, 2, 3, 4, 5], N, p=[1/5, 1/5, 1/5, 1/5, 1/5])\n",
    "index = df[df[\"random\"]==5].index\n",
    "# Replace with NaN\n",
    "df.loc[index,\"nuc\"] = np.nan"
   ]
  },
  {
   "cell_type": "code",
   "execution_count": null,
   "id": "fccdb4a1-bae2-4950-be5f-a18d0f23bed1",
   "metadata": {},
   "outputs": [],
   "source": []
  },
  {
   "cell_type": "code",
   "execution_count": 122,
   "id": "4d534aab-ec82-4010-8f15-350264b86858",
   "metadata": {},
   "outputs": [],
   "source": [
    "#for yesast"
   ]
  },
  {
   "cell_type": "code",
   "execution_count": null,
   "id": "a7252060-9b41-4b68-9552-2914adaec029",
   "metadata": {},
   "outputs": [],
   "source": []
  },
  {
   "cell_type": "code",
   "execution_count": 314,
   "id": "f84c805f-3dbe-4728-81a9-d3afa836fade",
   "metadata": {},
   "outputs": [
    {
     "data": {
      "text/plain": [
       "301"
      ]
     },
     "execution_count": 314,
     "metadata": {},
     "output_type": "execute_result"
    }
   ],
   "source": [
    "df.mcg.isna().sum()"
   ]
  },
  {
   "cell_type": "code",
   "execution_count": 315,
   "id": "ba4c147d-8c4c-4c09-a0cc-db737f00def5",
   "metadata": {},
   "outputs": [
    {
     "data": {
      "text/plain": [
       "326"
      ]
     },
     "execution_count": 315,
     "metadata": {},
     "output_type": "execute_result"
    }
   ],
   "source": [
    "df.gvh.isna().sum()"
   ]
  },
  {
   "cell_type": "code",
   "execution_count": 316,
   "id": "0aa2dc48-0b75-4cf4-ac62-de1704cbdc3c",
   "metadata": {},
   "outputs": [
    {
     "data": {
      "text/plain": [
       "0       0.61\n",
       "1       0.67\n",
       "2       0.62\n",
       "3       0.44\n",
       "4        NaN\n",
       "        ... \n",
       "1479    0.62\n",
       "1480    0.43\n",
       "1481    0.57\n",
       "1482    0.40\n",
       "1483     NaN\n",
       "Name: gvh, Length: 1484, dtype: float64"
      ]
     },
     "execution_count": 316,
     "metadata": {},
     "output_type": "execute_result"
    }
   ],
   "source": [
    "df.gvh"
   ]
  },
  {
   "cell_type": "code",
   "execution_count": null,
   "id": "6cf9da2b-a27a-4a26-ae70-91c977698063",
   "metadata": {},
   "outputs": [],
   "source": []
  },
  {
   "cell_type": "code",
   "execution_count": null,
   "id": "dbc2e838-23f6-4fec-9cce-af7b0dfc8de1",
   "metadata": {},
   "outputs": [],
   "source": []
  },
  {
   "cell_type": "code",
   "execution_count": 156,
   "id": "810b88e4-29cd-4baa-bd24-6e4b797060c3",
   "metadata": {},
   "outputs": [],
   "source": [
    "# for yeast"
   ]
  },
  {
   "cell_type": "code",
   "execution_count": 317,
   "id": "56b2a32a-4923-4b10-baaa-dae035102b3a",
   "metadata": {},
   "outputs": [],
   "source": [
    "X = df[['mcg', 'gvh' , 'alm' , 'mit', 'erl', 'vac', 'nuc']]\n",
    "y = df[['localization_site']]"
   ]
  },
  {
   "cell_type": "code",
   "execution_count": 318,
   "id": "5ccb94e3-9579-4361-8886-09873cb83984",
   "metadata": {},
   "outputs": [
    {
     "data": {
      "text/plain": [
       "301"
      ]
     },
     "execution_count": 318,
     "metadata": {},
     "output_type": "execute_result"
    }
   ],
   "source": [
    "X.mcg.isna().sum()"
   ]
  },
  {
   "cell_type": "code",
   "execution_count": null,
   "id": "cbcb466b-fcc5-4a83-9a89-780f151d1fdc",
   "metadata": {},
   "outputs": [],
   "source": []
  },
  {
   "cell_type": "code",
   "execution_count": null,
   "id": "503437e3-94bf-4729-b0ac-75d50de465d8",
   "metadata": {},
   "outputs": [],
   "source": []
  },
  {
   "cell_type": "code",
   "execution_count": 319,
   "id": "c4c7c4d5-5414-4515-87d3-0c5d74acfa57",
   "metadata": {},
   "outputs": [
    {
     "name": "stderr",
     "output_type": "stream",
     "text": [
      "C:\\Users\\deshm\\AppData\\Local\\Programs\\Python\\Python311\\Lib\\site-packages\\sklearn\\preprocessing\\_label.py:114: DataConversionWarning: A column-vector y was passed when a 1d array was expected. Please change the shape of y to (n_samples, ), for example using ravel().\n",
      "  y = column_or_1d(y, warn=True)\n"
     ]
    }
   ],
   "source": [
    "label_encoder = LabelEncoder()\n",
    "y_encoded = label_encoder.fit_transform(y)\n",
    "\n",
    "# Split data into train and test sets\n",
    "X_train, X_test, y_train, y_test = train_test_split(X, y_encoded, test_size=0.2, random_state=201773407)"
   ]
  },
  {
   "cell_type": "code",
   "execution_count": 320,
   "id": "63af307d-d9b2-4010-8b0c-880c56f48f5a",
   "metadata": {},
   "outputs": [
    {
     "data": {
      "text/plain": [
       "62"
      ]
     },
     "execution_count": 320,
     "metadata": {},
     "output_type": "execute_result"
    }
   ],
   "source": [
    "X_test.mcg.isna().sum()"
   ]
  },
  {
   "cell_type": "code",
   "execution_count": 325,
   "id": "c38283fc-740f-4cf0-9818-f5484faebac6",
   "metadata": {},
   "outputs": [
    {
     "data": {
      "text/plain": [
       "563     0.32\n",
       "435     0.44\n",
       "1214    0.43\n",
       "257     0.42\n",
       "319     0.69\n",
       "        ... \n",
       "33      0.33\n",
       "842      NaN\n",
       "170     0.31\n",
       "10      0.43\n",
       "1073     NaN\n",
       "Name: mcg, Length: 297, dtype: float64"
      ]
     },
     "execution_count": 325,
     "metadata": {},
     "output_type": "execute_result"
    }
   ],
   "source": [
    "X_test.mcg"
   ]
  },
  {
   "cell_type": "markdown",
   "id": "f0f5239f-606b-4d53-b5c0-b48f75fbcddb",
   "metadata": {},
   "source": [
    "# Mean Imputation"
   ]
  },
  {
   "cell_type": "code",
   "execution_count": null,
   "id": "15331272-a8fd-4b4d-989a-78d2cd116477",
   "metadata": {},
   "outputs": [],
   "source": [
    "\n",
    "mean_train_data = X_train.mcg.mean()\n",
    "X_train.mcg = X_train.mcg.fillna(mean_train_data).round(2)\n",
    "X_test.mcg = X_test.mcg.fillna(mean_train_data).round(2)\n"
   ]
  },
  {
   "cell_type": "code",
   "execution_count": 329,
   "id": "8cf2e2e0-610b-4b12-920d-eb6a45994b3c",
   "metadata": {},
   "outputs": [
    {
     "data": {
      "text/plain": [
       "mcg    0.501382\n",
       "gvh    0.500474\n",
       "alm    0.502305\n",
       "mit    0.263316\n",
       "erl    0.505820\n",
       "vac    0.499696\n",
       "nuc    0.278246\n",
       "dtype: float64"
      ]
     },
     "execution_count": 329,
     "metadata": {},
     "output_type": "execute_result"
    }
   ],
   "source": [
    "X_train.mean(axis=0)"
   ]
  },
  {
   "cell_type": "code",
   "execution_count": 330,
   "id": "ce8eddd5-7a53-4048-aa04-1ad8e43edae2",
   "metadata": {},
   "outputs": [],
   "source": [
    "\n",
    "X_train= X_train.fillna(X_train.mean()).round(2)\n",
    "X_test = X_test.fillna(X_train.mean()).round(2)\n"
   ]
  },
  {
   "cell_type": "code",
   "execution_count": 332,
   "id": "8a60eae1-9fdb-4c30-9380-b361fe24044a",
   "metadata": {},
   "outputs": [
    {
     "data": {
      "text/plain": [
       "563     0.32\n",
       "435     0.44\n",
       "1214    0.43\n",
       "257     0.42\n",
       "319     0.69\n",
       "        ... \n",
       "33      0.33\n",
       "842     0.50\n",
       "170     0.31\n",
       "10      0.43\n",
       "1073    0.50\n",
       "Name: mcg, Length: 297, dtype: float64"
      ]
     },
     "execution_count": 332,
     "metadata": {},
     "output_type": "execute_result"
    }
   ],
   "source": [
    "X_test.mcg"
   ]
  },
  {
   "cell_type": "code",
   "execution_count": 333,
   "id": "c73f6e51-a28d-480d-a09d-4ca8e0975751",
   "metadata": {},
   "outputs": [
    {
     "data": {
      "text/plain": [
       "0"
      ]
     },
     "execution_count": 333,
     "metadata": {},
     "output_type": "execute_result"
    }
   ],
   "source": [
    "X_test.mcg.isna().sum()"
   ]
  },
  {
   "cell_type": "code",
   "execution_count": 334,
   "id": "70ed9d6c-8e25-48ce-8b5f-4bfa2393fed5",
   "metadata": {},
   "outputs": [
    {
     "name": "stdout",
     "output_type": "stream",
     "text": [
      " MSE: 16.986531986531986,    Accuracy: 0.4781144781144781\n"
     ]
    }
   ],
   "source": [
    "from sklearn.ensemble import RandomForestClassifier\n",
    "\n",
    "# Train the model\n",
    "rf_clf = RandomForestClassifier(random_state=201773407)\n",
    "rf_clf.fit(X_train, y_train)\n",
    "\n",
    "# Predict\n",
    "y_pred_rf = rf_clf.predict(X_test)\n",
    "# Evaluate the model\n",
    "mse_rf = mean_squared_error(y_test, y_pred_rf)\n",
    "accuracy_rf = accuracy_score(y_test, y_pred_rf)\n",
    "print(f' MSE: {mse_rf},    Accuracy: {accuracy_rf}')"
   ]
  },
  {
   "cell_type": "code",
   "execution_count": null,
   "id": "a7cd803d-c9e7-4a77-b6af-0e3955b853c2",
   "metadata": {},
   "outputs": [],
   "source": []
  },
  {
   "cell_type": "code",
   "execution_count": 340,
   "id": "34b49016-0415-4164-856d-836d249390d9",
   "metadata": {},
   "outputs": [
    {
     "name": "stderr",
     "output_type": "stream",
     "text": [
      "C:\\Users\\deshm\\AppData\\Local\\Programs\\Python\\Python311\\Lib\\site-packages\\sklearn\\model_selection\\_split.py:737: UserWarning: The least populated class in y has only 4 members, which is less than n_splits=5.\n",
      "  warnings.warn(\n",
      "C:\\Users\\deshm\\AppData\\Local\\Programs\\Python\\Python311\\Lib\\site-packages\\sklearn\\model_selection\\_split.py:737: UserWarning: The least populated class in y has only 4 members, which is less than n_splits=5.\n",
      "  warnings.warn(\n",
      "C:\\Users\\deshm\\AppData\\Local\\Programs\\Python\\Python311\\Lib\\site-packages\\sklearn\\model_selection\\_split.py:737: UserWarning: The least populated class in y has only 4 members, which is less than n_splits=5.\n",
      "  warnings.warn(\n",
      "C:\\Users\\deshm\\AppData\\Local\\Programs\\Python\\Python311\\Lib\\site-packages\\sklearn\\model_selection\\_split.py:737: UserWarning: The least populated class in y has only 4 members, which is less than n_splits=5.\n",
      "  warnings.warn(\n",
      "C:\\Users\\deshm\\AppData\\Local\\Programs\\Python\\Python311\\Lib\\site-packages\\sklearn\\model_selection\\_split.py:737: UserWarning: The least populated class in y has only 4 members, which is less than n_splits=5.\n",
      "  warnings.warn(\n",
      "C:\\Users\\deshm\\AppData\\Local\\Programs\\Python\\Python311\\Lib\\site-packages\\sklearn\\model_selection\\_split.py:737: UserWarning: The least populated class in y has only 4 members, which is less than n_splits=5.\n",
      "  warnings.warn(\n",
      "C:\\Users\\deshm\\AppData\\Local\\Programs\\Python\\Python311\\Lib\\site-packages\\sklearn\\model_selection\\_split.py:737: UserWarning: The least populated class in y has only 4 members, which is less than n_splits=5.\n",
      "  warnings.warn(\n",
      "C:\\Users\\deshm\\AppData\\Local\\Programs\\Python\\Python311\\Lib\\site-packages\\sklearn\\model_selection\\_split.py:737: UserWarning: The least populated class in y has only 4 members, which is less than n_splits=5.\n",
      "  warnings.warn(\n",
      "C:\\Users\\deshm\\AppData\\Local\\Programs\\Python\\Python311\\Lib\\site-packages\\sklearn\\model_selection\\_split.py:737: UserWarning: The least populated class in y has only 4 members, which is less than n_splits=5.\n",
      "  warnings.warn(\n",
      "C:\\Users\\deshm\\AppData\\Local\\Programs\\Python\\Python311\\Lib\\site-packages\\sklearn\\model_selection\\_split.py:737: UserWarning: The least populated class in y has only 4 members, which is less than n_splits=5.\n",
      "  warnings.warn(\n",
      "C:\\Users\\deshm\\AppData\\Local\\Programs\\Python\\Python311\\Lib\\site-packages\\sklearn\\model_selection\\_split.py:737: UserWarning: The least populated class in y has only 4 members, which is less than n_splits=5.\n",
      "  warnings.warn(\n",
      "C:\\Users\\deshm\\AppData\\Local\\Programs\\Python\\Python311\\Lib\\site-packages\\sklearn\\model_selection\\_split.py:737: UserWarning: The least populated class in y has only 4 members, which is less than n_splits=5.\n",
      "  warnings.warn(\n",
      "C:\\Users\\deshm\\AppData\\Local\\Programs\\Python\\Python311\\Lib\\site-packages\\sklearn\\model_selection\\_split.py:737: UserWarning: The least populated class in y has only 4 members, which is less than n_splits=5.\n",
      "  warnings.warn(\n",
      "C:\\Users\\deshm\\AppData\\Local\\Programs\\Python\\Python311\\Lib\\site-packages\\sklearn\\model_selection\\_split.py:737: UserWarning: The least populated class in y has only 4 members, which is less than n_splits=5.\n",
      "  warnings.warn(\n",
      "C:\\Users\\deshm\\AppData\\Local\\Programs\\Python\\Python311\\Lib\\site-packages\\sklearn\\model_selection\\_split.py:737: UserWarning: The least populated class in y has only 4 members, which is less than n_splits=5.\n",
      "  warnings.warn(\n",
      "C:\\Users\\deshm\\AppData\\Local\\Programs\\Python\\Python311\\Lib\\site-packages\\sklearn\\model_selection\\_split.py:737: UserWarning: The least populated class in y has only 4 members, which is less than n_splits=5.\n",
      "  warnings.warn(\n",
      "C:\\Users\\deshm\\AppData\\Local\\Programs\\Python\\Python311\\Lib\\site-packages\\sklearn\\model_selection\\_split.py:737: UserWarning: The least populated class in y has only 4 members, which is less than n_splits=5.\n",
      "  warnings.warn(\n",
      "C:\\Users\\deshm\\AppData\\Local\\Programs\\Python\\Python311\\Lib\\site-packages\\sklearn\\model_selection\\_split.py:737: UserWarning: The least populated class in y has only 4 members, which is less than n_splits=5.\n",
      "  warnings.warn(\n",
      "C:\\Users\\deshm\\AppData\\Local\\Programs\\Python\\Python311\\Lib\\site-packages\\sklearn\\model_selection\\_split.py:737: UserWarning: The least populated class in y has only 4 members, which is less than n_splits=5.\n",
      "  warnings.warn(\n",
      "C:\\Users\\deshm\\AppData\\Local\\Programs\\Python\\Python311\\Lib\\site-packages\\sklearn\\model_selection\\_split.py:737: UserWarning: The least populated class in y has only 4 members, which is less than n_splits=5.\n",
      "  warnings.warn(\n"
     ]
    },
    {
     "name": "stdout",
     "output_type": "stream",
     "text": [
      "Best k value: 7 with accuracy: 0.5400808424635677\n"
     ]
    }
   ],
   "source": [
    "from sklearn.impute import KNNImputer\n",
    "from sklearn.ensemble import RandomForestClassifier\n",
    "from sklearn.model_selection import train_test_split, cross_val_score\n",
    "\n",
    "# Define a function to evaluate different k values\n",
    "def evaluate_knn_imputation(k_values, X, y):\n",
    "    results = {}\n",
    "    for k in k_values:\n",
    "        knn_imputer = KNNImputer(n_neighbors=k)\n",
    "        X_imputed = knn_imputer.fit_transform(X)\n",
    "        \n",
    "        # Split the data into training and testing sets\n",
    "        X_train, X_test, y_train, y_test = train_test_split(X_imputed, y, test_size=0.2, random_state=1)\n",
    "        \n",
    "        # Train and evaluate a model (e.g., Random Forest) on the imputed data\n",
    "        rf_clf = RandomForestClassifier(random_state=201773407)\n",
    "        rf_clf.fit(X_train, y_train)\n",
    "        \n",
    "        # Evaluate the model using cross-validation\n",
    "        scores = cross_val_score(rf_clf, X_train, y_train, cv=5, scoring='accuracy')\n",
    "        results[k] = scores.mean()\n",
    "    return results\n",
    "\n",
    "# Evaluate different k values\n",
    "k_values = range(1, 21)\n",
    "results = evaluate_knn_imputation(k_values, X, y_encoded)\n",
    "\n",
    "# Find the best k value\n",
    "best_k = max(results, key=results.get)\n",
    "print(f'Best k value: {best_k} with accuracy: {results[best_k]}')\n"
   ]
  },
  {
   "cell_type": "code",
   "execution_count": null,
   "id": "e4c577c6-23b8-4cbb-88ef-cf070f97386b",
   "metadata": {},
   "outputs": [],
   "source": []
  },
  {
   "cell_type": "code",
   "execution_count": 341,
   "id": "40a9b4fe-61ed-4ba3-886e-b2ffb69e550e",
   "metadata": {},
   "outputs": [],
   "source": [
    "\n",
    "acc = [83.64, 67.81,74]\n",
    "name = [\"Complete Data\", \"Mean Imputation\", \"KNN Imputation\"]\n",
    "\n",
    "g = pd.DataFrame({\"Type\":name, \"Accuracy\": acc})"
   ]
  },
  {
   "cell_type": "code",
   "execution_count": 342,
   "id": "16aec44c-f72e-42ca-a0e5-97915a0ff1b0",
   "metadata": {},
   "outputs": [
    {
     "data": {
      "text/html": [
       "<div>\n",
       "<style scoped>\n",
       "    .dataframe tbody tr th:only-of-type {\n",
       "        vertical-align: middle;\n",
       "    }\n",
       "\n",
       "    .dataframe tbody tr th {\n",
       "        vertical-align: top;\n",
       "    }\n",
       "\n",
       "    .dataframe thead th {\n",
       "        text-align: right;\n",
       "    }\n",
       "</style>\n",
       "<table border=\"1\" class=\"dataframe\">\n",
       "  <thead>\n",
       "    <tr style=\"text-align: right;\">\n",
       "      <th></th>\n",
       "      <th>Type</th>\n",
       "      <th>Accuracy</th>\n",
       "    </tr>\n",
       "  </thead>\n",
       "  <tbody>\n",
       "    <tr>\n",
       "      <th>0</th>\n",
       "      <td>Complete Data</td>\n",
       "      <td>83.64</td>\n",
       "    </tr>\n",
       "    <tr>\n",
       "      <th>1</th>\n",
       "      <td>Mean Imputation</td>\n",
       "      <td>67.81</td>\n",
       "    </tr>\n",
       "    <tr>\n",
       "      <th>2</th>\n",
       "      <td>KNN Imputation</td>\n",
       "      <td>74.00</td>\n",
       "    </tr>\n",
       "  </tbody>\n",
       "</table>\n",
       "</div>"
      ],
      "text/plain": [
       "              Type  Accuracy\n",
       "0    Complete Data     83.64\n",
       "1  Mean Imputation     67.81\n",
       "2   KNN Imputation     74.00"
      ]
     },
     "execution_count": 342,
     "metadata": {},
     "output_type": "execute_result"
    }
   ],
   "source": [
    "g"
   ]
  },
  {
   "cell_type": "code",
   "execution_count": 344,
   "id": "b22ad605-d504-41c7-8427-da034f457a9a",
   "metadata": {},
   "outputs": [],
   "source": [
    "import matplotlib.pyplot as plt \n"
   ]
  },
  {
   "cell_type": "code",
   "execution_count": 353,
   "id": "c62250d6-0efe-461c-b424-e04de971077e",
   "metadata": {},
   "outputs": [
    {
     "data": {
      "image/png": "[encoded data removed]",
      "text/plain": [
       "<Figure size 600x400 with 1 Axes>"
      ]
     },
     "metadata": {},
     "output_type": "display_data"
    }
   ],
   "source": [
    "plt.figure(figsize=(6,4))\n",
    "bars = plt.bar(g.Type, g.Accuracy)\n",
    "\n",
    "# Add values on top of each bar\n",
    "for bar in bars:\n",
    "    height = bar.get_height()\n",
    "    plt.text(\n",
    "        bar.get_x() + bar.get_width() / 2, height,\n",
    "        f'{height:.2f}', ha='center', va='bottom'\n",
    "    )\n",
    "\n",
    "# Additional plot settings\n",
    "plt.xlabel('Type')\n",
    "plt.ylabel('Model Accuracy')\n",
    "plt.title('Model Accuracy by Type')\n",
    "\n",
    "# Show the plot\n",
    "plt.show()"
   ]
  },
  {
   "cell_type": "code",
   "execution_count": 346,
   "id": "f1c8aeca-ce8a-46d8-a348-9d4990b6050e",
   "metadata": {},
   "outputs": [
    {
     "data": {
      "text/plain": [
       "<BarContainer object of 3 artists>"
      ]
     },
     "execution_count": 346,
     "metadata": {},
     "output_type": "execute_result"
    },
    {
     "data": {
      "image/png": "[encoded data removed]",
      "text/plain": [
       "<Figure size 640x480 with 1 Axes>"
      ]
     },
     "metadata": {},
     "output_type": "display_data"
    }
   ],
   "source": [
    "plt.bar(g.Type, g.Accuracy)"
   ]
  }
 ],
 "metadata": {
  "kernelspec": {
   "display_name": "Python 3 (ipykernel)",
   "language": "python",
   "name": "python3"
  },
  "language_info": {
   "codemirror_mode": {
    "name": "ipython",
    "version": 3
   },
   "file_extension": ".py",
   "mimetype": "text/x-python",
   "name": "python",
   "nbconvert_exporter": "python",
   "pygments_lexer": "ipython3",
   "version": "3.11.5"
  }
 },
 "nbformat": 4,
 "nbformat_minor": 5
}
